{
  "cells": [
    {
      "cell_type": "markdown",
      "metadata": {
        "id": "rAHSgD3t8Oct"
      },
      "source": [
        "# 1. General Salary Data:\n"
      ]
    },
    {
      "cell_type": "code",
      "execution_count": 30,
      "metadata": {
        "id": "KTaD1X4WKxGT"
      },
      "outputs": [],
      "source": [
        "import pandas as pd\n",
        "import matplotlib.pyplot as plt\n",
        "import numpy as np\n",
        "from sklearn.linear_model import LinearRegression"
      ]
    },
    {
      "cell_type": "code",
      "execution_count": 31,
      "metadata": {
        "id": "bgp2WLha_g16"
      },
      "outputs": [],
      "source": [
        "salary_data = pd.read_csv(\"https://richardson.byu.edu/220/ds_salary.csv\")"
      ]
    },
    {
      "cell_type": "code",
      "execution_count": 32,
      "metadata": {
        "colab": {
          "base_uri": "https://localhost:8080/",
          "height": 247
        },
        "id": "00GxKH1ZhsyW",
        "outputId": "23e71c08-6d45-4bbb-890f-ac6aeb8a622c"
      },
      "outputs": [
        {
          "data": {
            "text/html": [
              "<div>\n",
              "<style scoped>\n",
              "    .dataframe tbody tr th:only-of-type {\n",
              "        vertical-align: middle;\n",
              "    }\n",
              "\n",
              "    .dataframe tbody tr th {\n",
              "        vertical-align: top;\n",
              "    }\n",
              "\n",
              "    .dataframe thead th {\n",
              "        text-align: right;\n",
              "    }\n",
              "</style>\n",
              "<table border=\"1\" class=\"dataframe\">\n",
              "  <thead>\n",
              "    <tr style=\"text-align: right;\">\n",
              "      <th></th>\n",
              "      <th>...1</th>\n",
              "      <th>work_year</th>\n",
              "      <th>experience_level</th>\n",
              "      <th>employment_type</th>\n",
              "      <th>job_title</th>\n",
              "      <th>salary</th>\n",
              "      <th>salary_currency</th>\n",
              "      <th>salary_in_usd</th>\n",
              "      <th>employee_residence</th>\n",
              "      <th>remote_ratio</th>\n",
              "      <th>company_location</th>\n",
              "      <th>company_size</th>\n",
              "    </tr>\n",
              "  </thead>\n",
              "  <tbody>\n",
              "    <tr>\n",
              "      <th>0</th>\n",
              "      <td>0</td>\n",
              "      <td>2020</td>\n",
              "      <td>MI</td>\n",
              "      <td>FT</td>\n",
              "      <td>Data Scientist</td>\n",
              "      <td>70000</td>\n",
              "      <td>EUR</td>\n",
              "      <td>79833</td>\n",
              "      <td>DE</td>\n",
              "      <td>0</td>\n",
              "      <td>DE</td>\n",
              "      <td>L</td>\n",
              "    </tr>\n",
              "    <tr>\n",
              "      <th>1</th>\n",
              "      <td>1</td>\n",
              "      <td>2020</td>\n",
              "      <td>SE</td>\n",
              "      <td>FT</td>\n",
              "      <td>Machine Learning Scientist</td>\n",
              "      <td>260000</td>\n",
              "      <td>USD</td>\n",
              "      <td>260000</td>\n",
              "      <td>JP</td>\n",
              "      <td>0</td>\n",
              "      <td>JP</td>\n",
              "      <td>S</td>\n",
              "    </tr>\n",
              "    <tr>\n",
              "      <th>2</th>\n",
              "      <td>2</td>\n",
              "      <td>2020</td>\n",
              "      <td>SE</td>\n",
              "      <td>FT</td>\n",
              "      <td>Big Data Engineer</td>\n",
              "      <td>85000</td>\n",
              "      <td>GBP</td>\n",
              "      <td>109024</td>\n",
              "      <td>GB</td>\n",
              "      <td>50</td>\n",
              "      <td>GB</td>\n",
              "      <td>M</td>\n",
              "    </tr>\n",
              "    <tr>\n",
              "      <th>3</th>\n",
              "      <td>3</td>\n",
              "      <td>2020</td>\n",
              "      <td>MI</td>\n",
              "      <td>FT</td>\n",
              "      <td>Product Data Analyst</td>\n",
              "      <td>20000</td>\n",
              "      <td>USD</td>\n",
              "      <td>20000</td>\n",
              "      <td>HN</td>\n",
              "      <td>0</td>\n",
              "      <td>HN</td>\n",
              "      <td>S</td>\n",
              "    </tr>\n",
              "    <tr>\n",
              "      <th>4</th>\n",
              "      <td>4</td>\n",
              "      <td>2020</td>\n",
              "      <td>SE</td>\n",
              "      <td>FT</td>\n",
              "      <td>Machine Learning Engineer</td>\n",
              "      <td>150000</td>\n",
              "      <td>USD</td>\n",
              "      <td>150000</td>\n",
              "      <td>US</td>\n",
              "      <td>50</td>\n",
              "      <td>US</td>\n",
              "      <td>L</td>\n",
              "    </tr>\n",
              "  </tbody>\n",
              "</table>\n",
              "</div>"
            ],
            "text/plain": [
              "   ...1  work_year experience_level employment_type  \\\n",
              "0     0       2020               MI              FT   \n",
              "1     1       2020               SE              FT   \n",
              "2     2       2020               SE              FT   \n",
              "3     3       2020               MI              FT   \n",
              "4     4       2020               SE              FT   \n",
              "\n",
              "                    job_title  salary salary_currency  salary_in_usd  \\\n",
              "0              Data Scientist   70000             EUR          79833   \n",
              "1  Machine Learning Scientist  260000             USD         260000   \n",
              "2           Big Data Engineer   85000             GBP         109024   \n",
              "3        Product Data Analyst   20000             USD          20000   \n",
              "4   Machine Learning Engineer  150000             USD         150000   \n",
              "\n",
              "  employee_residence  remote_ratio company_location company_size  \n",
              "0                 DE             0               DE            L  \n",
              "1                 JP             0               JP            S  \n",
              "2                 GB            50               GB            M  \n",
              "3                 HN             0               HN            S  \n",
              "4                 US            50               US            L  "
            ]
          },
          "execution_count": 32,
          "metadata": {},
          "output_type": "execute_result"
        }
      ],
      "source": [
        "salary_data.head()"
      ]
    },
    {
      "cell_type": "code",
      "execution_count": 33,
      "metadata": {
        "colab": {
          "base_uri": "https://localhost:8080/",
          "height": 452
        },
        "id": "05S_igupy4Er",
        "outputId": "7112fe24-f96b-496a-e7c0-1d1c0a0596c0"
      },
      "outputs": [
        {
          "data": {
            "image/png": "[encoded data removed]",
            "text/plain": [
              "<Figure size 432x288 with 1 Axes>"
            ]
          },
          "metadata": {
            "needs_background": "light"
          },
          "output_type": "display_data"
        }
      ],
      "source": [
        "from matplotlib import pyplot as plt\n",
        "salary_data['salary_in_usd'].plot(kind='hist', bins=20, title='salary_in_usd')\n",
        "plt.gca().spines[['top', 'right',]].set_visible(False)"
      ]
    },
    {
      "cell_type": "markdown",
      "metadata": {
        "id": "w7b4kBLHyNzz"
      },
      "source": [
        "# 2. Effect of Experience on Salary:"
      ]
    },
    {
      "cell_type": "markdown",
      "metadata": {},
      "source": [
        "## Responses by Experience:\n",
        "\n",
        "The following plot shows the number of responses by experience level. The experience levels are divided into 4 categories: \n",
        "- ***EN***rty level\n",
        "- ***MI***d level\n",
        "- ***SE***nior level\n",
        "- ***EX***ecutive level\n",
        "\n",
        "There are not as many Executives, which is expected. The majority of the responses are from Senior and Mid level professionals."
      ]
    },
    {
      "cell_type": "code",
      "execution_count": 34,
      "metadata": {
        "colab": {
          "base_uri": "https://localhost:8080/",
          "height": 430
        },
        "id": "nJLqLhSayvDp",
        "outputId": "c20c5dc3-ba4d-48ca-fd0a-ca243d43349c"
      },
      "outputs": [
        {
          "data": {
            "image/png": "[encoded data removed]",
            "text/plain": [
              "<Figure size 432x288 with 1 Axes>"
            ]
          },
          "metadata": {
            "needs_background": "light"
          },
          "output_type": "display_data"
        }
      ],
      "source": [
        "from matplotlib import pyplot as plt\n",
        "import seaborn as sns\n",
        "\n",
        "plt.ylabel('Employee Count')\n",
        "plt.title('Employee Count by Experience Level')\n",
        "plt.gca().spines[['top', 'right',]].set_visible(False)\n",
        "\n",
        "experience_order = ['EN', 'MI', 'SE', 'EX']\n",
        "salary_data.groupby('experience_level').size().loc[experience_order].plot(kind='bar', color=sns.palettes.mpl_palette('Dark2'))\n",
        "\n",
        "plt.show()\n"
      ]
    },
    {
      "cell_type": "markdown",
      "metadata": {},
      "source": [
        "## Salary by Experience:\n",
        "\n",
        "The following plot shows a box plot for each experience level. The average salary increases with experience level, which is expected."
      ]
    },
    {
      "cell_type": "code",
      "execution_count": 35,
      "metadata": {
        "colab": {
          "base_uri": "https://localhost:8080/",
          "height": 564
        },
        "id": "afuOExDcy6kg",
        "outputId": "026919f3-0cd3-44d8-9349-24ae1b4466dd"
      },
      "outputs": [
        {
          "data": {
            "image/png": "[encoded data removed]",
            "text/plain": [
              "<Figure size 720x432 with 1 Axes>"
            ]
          },
          "metadata": {
            "needs_background": "light"
          },
          "output_type": "display_data"
        }
      ],
      "source": [
        "plt.figure(figsize=(10, 6))\n",
        "experience_order = ['EN', 'MI', 'SE', 'EX']\n",
        "sns.boxplot(x='salary_in_usd', y='experience_level', data=salary_data, order=experience_order)\n",
        "\n",
        "plt.title('Salary in USD by Experience Level')\n",
        "plt.xlabel('Salary in USD')\n",
        "plt.ylabel('Experience Level')\n",
        "plt.gca().spines[['top', 'right']].set_visible(False)\n",
        "\n",
        "plt.show()"
      ]
    },
    {
      "cell_type": "markdown",
      "metadata": {},
      "source": [
        "Curiously the standard deviation of salaries is greater for the MI and EX levels. This could reflect the fact that not all experience is created equally. Additionally, Senior level professionals may have more similar salaries due to the fact that they are at the limit of their career progression."
      ]
    },
    {
      "cell_type": "code",
      "execution_count": 36,
      "metadata": {
        "id": "eMCQXsT3yPOp"
      },
      "outputs": [
        {
          "data": {
            "image/png": "[encoded data removed]",
            "text/plain": [
              "<Figure size 432x288 with 1 Axes>"
            ]
          },
          "metadata": {
            "needs_background": "light"
          },
          "output_type": "display_data"
        }
      ],
      "source": [
        "std_by_experience = salary_data.groupby('experience_level')['salary_in_usd'].std().loc[experience_order]\n",
        "\n",
        "std_by_experience.plot(kind='line', title='Standard Deviation by Experience Level')\n",
        "plt.scatter(std_by_experience.index, std_by_experience.values, color='Blue', label='Std Deviation')\n",
        "plt.xlabel('Experience Level')\n",
        "plt.ylabel('Standard Deviation')\n",
        "plt.gca().spines[['top', 'right']].set_visible(False)\n",
        "plt.show()"
      ]
    },
    {
      "cell_type": "markdown",
      "metadata": {
        "id": "_-LTrzTTySjk"
      },
      "source": [
        "# 3. Impact of Company Size on Salary:"
      ]
    },
    {
      "cell_type": "code",
      "execution_count": 37,
      "metadata": {
        "id": "6WXik9RXyVZ3"
      },
      "outputs": [
        {
          "data": {
            "image/png": "[encoded data removed]",
            "text/plain": [
              "<Figure size 432x288 with 1 Axes>"
            ]
          },
          "metadata": {
            "needs_background": "light"
          },
          "output_type": "display_data"
        }
      ],
      "source": [
        "sns.boxplot(x='salary_in_usd', y='company_size', data=salary_data, order=\"L\" \"M\" \"S\")\n",
        "\n",
        "plt.title('Salary in USD by Company Size')\n",
        "plt.xlabel('Salary in USD')\n",
        "plt.ylabel('Company Size')\n",
        "plt.gca().spines[['top', 'right']].set_visible(False)\n",
        "plt.show()"
      ]
    },
    {
      "cell_type": "code",
      "execution_count": 38,
      "metadata": {},
      "outputs": [
        {
          "data": {
            "text/html": [
              "<div>\n",
              "<style scoped>\n",
              "    .dataframe tbody tr th:only-of-type {\n",
              "        vertical-align: middle;\n",
              "    }\n",
              "\n",
              "    .dataframe tbody tr th {\n",
              "        vertical-align: top;\n",
              "    }\n",
              "\n",
              "    .dataframe thead th {\n",
              "        text-align: right;\n",
              "    }\n",
              "</style>\n",
              "<table border=\"1\" class=\"dataframe\">\n",
              "  <thead>\n",
              "    <tr style=\"text-align: right;\">\n",
              "      <th></th>\n",
              "      <th>count</th>\n",
              "      <th>mean</th>\n",
              "      <th>std</th>\n",
              "      <th>min</th>\n",
              "      <th>25%</th>\n",
              "      <th>50%</th>\n",
              "      <th>75%</th>\n",
              "      <th>max</th>\n",
              "    </tr>\n",
              "    <tr>\n",
              "      <th>company_size</th>\n",
              "      <th></th>\n",
              "      <th></th>\n",
              "      <th></th>\n",
              "      <th></th>\n",
              "      <th></th>\n",
              "      <th></th>\n",
              "      <th></th>\n",
              "      <th></th>\n",
              "    </tr>\n",
              "  </thead>\n",
              "  <tbody>\n",
              "    <tr>\n",
              "      <th>L</th>\n",
              "      <td>182.0</td>\n",
              "      <td>126090.016484</td>\n",
              "      <td>86348.230843</td>\n",
              "      <td>5882.0</td>\n",
              "      <td>69999.25</td>\n",
              "      <td>109500.0</td>\n",
              "      <td>160000.0</td>\n",
              "      <td>600000.0</td>\n",
              "    </tr>\n",
              "    <tr>\n",
              "      <th>M</th>\n",
              "      <td>321.0</td>\n",
              "      <td>118350.323988</td>\n",
              "      <td>58590.477351</td>\n",
              "      <td>4000.0</td>\n",
              "      <td>78526.00</td>\n",
              "      <td>115000.0</td>\n",
              "      <td>154000.0</td>\n",
              "      <td>450000.0</td>\n",
              "    </tr>\n",
              "    <tr>\n",
              "      <th>S</th>\n",
              "      <td>78.0</td>\n",
              "      <td>79817.833333</td>\n",
              "      <td>64581.554758</td>\n",
              "      <td>2859.0</td>\n",
              "      <td>45653.50</td>\n",
              "      <td>67881.5</td>\n",
              "      <td>102370.0</td>\n",
              "      <td>416000.0</td>\n",
              "    </tr>\n",
              "  </tbody>\n",
              "</table>\n",
              "</div>"
            ],
            "text/plain": [
              "              count           mean           std     min       25%       50%  \\\n",
              "company_size                                                                   \n",
              "L             182.0  126090.016484  86348.230843  5882.0  69999.25  109500.0   \n",
              "M             321.0  118350.323988  58590.477351  4000.0  78526.00  115000.0   \n",
              "S              78.0   79817.833333  64581.554758  2859.0  45653.50   67881.5   \n",
              "\n",
              "                   75%       max  \n",
              "company_size                      \n",
              "L             160000.0  600000.0  \n",
              "M             154000.0  450000.0  \n",
              "S             102370.0  416000.0  "
            ]
          },
          "execution_count": 38,
          "metadata": {},
          "output_type": "execute_result"
        }
      ],
      "source": [
        "salary_data.groupby('company_size')['salary_in_usd'].describe()"
      ]
    },
    {
      "cell_type": "markdown",
      "metadata": {
        "id": "Z6eUYI77yYHH"
      },
      "source": [
        "# 4. Job Title Analysis:"
      ]
    },
    {
      "cell_type": "code",
      "execution_count": 39,
      "metadata": {
        "id": "3xPnvNTTyY9c"
      },
      "outputs": [
        {
          "data": {
            "image/png": "[encoded data removed]",
            "text/plain": [
              "<Figure size 720x432 with 1 Axes>"
            ]
          },
          "metadata": {
            "needs_background": "light"
          },
          "output_type": "display_data"
        }
      ],
      "source": [
        "def analyze_by_keywords(salary_data, key_words_list: dict):\n",
        "    results = {}\n",
        "    for title, key_words in key_words_list.items():\n",
        "        key_words = [key_word.lower() for key_word in key_words]\n",
        "        if len(key_words) == 0:\n",
        "            filtered_data = salary_data\n",
        "        else:\n",
        "            filtered_data = salary_data[salary_data['job_title'].str.lower().str.contains('|'.join(key_words))]\n",
        "        results[title] = filtered_data['salary_in_usd']\n",
        "\n",
        "    sorted_results = {key: value for key, value in sorted(results.items(), key=lambda item: item[1].median())}\n",
        "    \n",
        "    plot_data = pd.DataFrame([(key, value) for key, values in sorted_results.items() for value in values], columns=['Category', 'Salary'])\n",
        "    \n",
        "    plt.figure(figsize=(10, 6))\n",
        "    sns.boxplot(x='Salary', y='Category', data=plot_data, orient='h')\n",
        "    \n",
        "    plt.xlabel(\"Salary in USD\")\n",
        "    plt.title(\"Salary Distribution by Keyword Groups\")\n",
        "    \n",
        "    plt.tight_layout()\n",
        "    plt.show()\n",
        "    \n",
        "    return results\n",
        "\n",
        "key_words_list = {\n",
        "    \"Machine Learning\": [\"machine learning\", \"ml\", \"nlp\", \"ai \"],\n",
        "    \"Data Science\": [\"data science\", \"data scientist\", \"data analyst\", \"data engineer\"],\n",
        "    \"Software Engineering\": [\"software engineer\", \"software developer\"],\n",
        "    \"Analyst\": [\"analyst\"],\n",
        "    \"Management/Lead\": [\"manager\", \"director\", \"executive\", \"head\", \"lead\", \"principal\"],\n",
        "    \"Scientist\": [\"scientist\"],\n",
        "    \"Overall\": []\n",
        "}\n",
        "\n",
        "results = analyze_by_keywords(salary_data, key_words_list)\n",
        "# for title, salaries in results.items():\n",
        "#     print(f\"{title}:\\n{salaries.describe()}\")\n",
        "\n",
        "# job_titles = set(str(job_title).lower() for job_title in salary_data['job_title'])\n",
        "# print(job_titles)"
      ]
    },
    {
      "cell_type": "markdown",
      "metadata": {
        "id": "sqXHSHKXybDS"
      },
      "source": [
        "# 5. Interactions Between Relationships:"
      ]
    },
    {
      "cell_type": "code",
      "execution_count": null,
      "metadata": {
        "id": "nPPCrGOWyb3k"
      },
      "outputs": [],
      "source": []
    },
    {
      "cell_type": "markdown",
      "metadata": {
        "id": "dG9oZN9dyfy1"
      },
      "source": [
        "# 6. Conclusion:"
      ]
    },
    {
      "cell_type": "code",
      "execution_count": null,
      "metadata": {
        "id": "E2N29socygoC"
      },
      "outputs": [],
      "source": []
    },
    {
      "cell_type": "markdown",
      "metadata": {},
      "source": [
        "In terms of the relationship between company size and the salary of data scientists, we found that small companies pay significantly less overall than medium and large companies, with an average salary around 65k-80k a year compared to the average of medium and large companies being around 115k and 110k-125k respectively. Medium and large sized companies follow a similar trend overall, but they differ significantly on the higher end of salaries, where large companies surveyed had their highest salary at 600k a year compared to 450k for medium companies."
      ]
    },
    {
      "cell_type": "markdown",
      "metadata": {},
      "source": [
        "### Job Title Analysis Results\n",
        "\n",
        "Interestingly enough, Machine Learning related job titles have the lowest median salary compared to the other categories (including the entire dataset) coming in at around $88k a year. Not surprisingly, though, job titles that refer to some sort of management or lead role had a much higher median pay at $153k with the highest overall paying job at 600k a year."
      ]
    }
  ],
  "metadata": {
    "colab": {
      "provenance": []
    },
    "kernelspec": {
      "display_name": "Python 3",
      "name": "python3"
    },
    "language_info": {
      "codemirror_mode": {
        "name": "ipython",
        "version": 3
      },
      "file_extension": ".py",
      "mimetype": "text/x-python",
      "name": "python",
      "nbconvert_exporter": "python",
      "pygments_lexer": "ipython3",
      "version": "3.9.12"
    }
  },
  "nbformat": 4,
  "nbformat_minor": 0
}
